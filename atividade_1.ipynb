{
 "cells": [
  {
   "cell_type": "code",
   "execution_count": 3,
   "id": "fa314a5d",
   "metadata": {},
   "outputs": [
    {
     "name": "stdout",
     "output_type": "stream",
     "text": [
      "Árvore salva como arvore_fixa.png\n",
      "Expressão randômica gerada: (6 - 16) + 13\n",
      "Árvore salva como arvore_randomica.png\n"
     ]
    }
   ],
   "source": [
    "# atividade_1.py\n",
    "\n",
    "from graphviz import Digraph\n",
    "import random\n",
    "\n",
    "# Classe para representar um nó da árvore binária\n",
    "class Node:\n",
    "    def __init__(self, value, left=None, right=None):\n",
    "        self.value = value\n",
    "        self.left = left\n",
    "        self.right = right\n",
    "\n",
    "# Função para construir a árvore da expressão fixa\n",
    "def build_fixed_tree():\n",
    "    # ((7 + 3) (5 - 2))\n",
    "    left = Node('*',\n",
    "                Node('+', Node('7'), Node('3')),\n",
    "                Node('-', Node('5'), Node('2')))\n",
    "    # (10 * 20)\n",
    "    right = Node('*', Node('10'), Node('20'))\n",
    "    # ((...) / (...))\n",
    "    root = Node('/', left, right)\n",
    "    return root\n",
    "\n",
    "# Função para gerar uma expressão aritmética aleatória\n",
    "def generate_random_expression():\n",
    "    operators = ['+', '-', '*', '/']\n",
    "    operands = [str(random.randint(1, 20)) for _ in range(3)]\n",
    "    op1, op2 = random.sample(operators, 2)\n",
    "    # Exemplo: (a op1 b) op2 c\n",
    "    expr = f\"({operands[0]} {op1} {operands[1]}) {op2} {operands[2]}\"\n",
    "    return expr\n",
    "\n",
    "# Função para construir árvore a partir de expressão simples: (a op1 b) op2 c\n",
    "def build_random_tree(expr):\n",
    "    # Supondo formato: (a op1 b) op2 c\n",
    "    expr = expr.replace('(', '').replace(')', '')\n",
    "    parts = expr.split()\n",
    "    left = Node(parts[1], Node(parts[0]), Node(parts[2]))\n",
    "    root = Node(parts[3], left, Node(parts[4]))\n",
    "    return root\n",
    "\n",
    "# Função para visualizar a árvore usando graphviz\n",
    "def visualize_tree(root, filename):\n",
    "    dot = Digraph()\n",
    "    def add_nodes_edges(node):\n",
    "        if node:\n",
    "            dot.node(str(id(node)), node.value)\n",
    "            if node.left:\n",
    "                dot.edge(str(id(node)), str(id(node.left)))\n",
    "                add_nodes_edges(node.left)\n",
    "            if node.right:\n",
    "                dot.edge(str(id(node)), str(id(node.right)))\n",
    "                add_nodes_edges(node.right)\n",
    "    add_nodes_edges(root)\n",
    "    dot.render(filename, format='png', cleanup=True)\n",
    "    print(f\"Árvore salva como {filename}.png\")\n",
    "\n",
    "if __name__ == \"__main__\":\n",
    "    # Árvore fixa\n",
    "    fixed_tree = build_fixed_tree()\n",
    "    visualize_tree(fixed_tree, \"arvore_fixa\")\n",
    "\n",
    "    # Árvore randômica\n",
    "    expr = generate_random_expression()\n",
    "    print(\"Expressão randômica gerada:\", expr)\n",
    "    random_tree = build_random_tree(expr)\n",
    "    visualize_tree(random_tree, \"arvore_randomica\")"
   ]
  }
 ],
 "metadata": {
  "kernelspec": {
   "display_name": ".venv",
   "language": "python",
   "name": "python3"
  },
  "language_info": {
   "codemirror_mode": {
    "name": "ipython",
    "version": 3
   },
   "file_extension": ".py",
   "mimetype": "text/x-python",
   "name": "python",
   "nbconvert_exporter": "python",
   "pygments_lexer": "ipython3",
   "version": "3.12.3"
  }
 },
 "nbformat": 4,
 "nbformat_minor": 5
}
